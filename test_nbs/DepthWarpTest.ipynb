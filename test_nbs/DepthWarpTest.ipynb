{
 "cells": [
  {
   "cell_type": "code",
   "execution_count": 1,
   "id": "e8102cb7-08d5-4c0d-9e1f-b2ae8f1ee2b4",
   "metadata": {},
   "outputs": [
    {
     "name": "stderr",
     "output_type": "stream",
     "text": [
      "/home/troy/.local/lib/python3.8/site-packages/kornia/augmentation/augmentation.py:1872: DeprecationWarning: GaussianBlur is no longer maintained and will be removed from the future versions. Please use RandomGaussianBlur instead.\n",
      "  warnings.warn(\n"
     ]
    }
   ],
   "source": [
    "import os\n",
    "import numpy as np\n",
    "import quaternion\n",
    "\n",
    "import torch\n",
    "from torch import nn\n",
    "from torchvision import transforms\n",
    "from PIL import Image\n",
    "from kornia.geometry.depth import warp_frame_depth\n",
    "\n",
    "import matplotlib.pyplot as plt\n",
    "import moviepy.editor as mpy\n",
    "from IPython import display"
   ]
  },
  {
   "cell_type": "code",
   "execution_count": 2,
   "id": "8eca1ac0-3ef3-4d13-b7cf-5057e7e207e5",
   "metadata": {},
   "outputs": [],
   "source": [
    "saw = lambda x: 1 - abs(x % 2 - 1)\n",
    "ease_quad = lambda x: 2 * x**2 if x < 0.5 else 1 - (-2 * x + 2)**2 / 2"
   ]
  },
  {
   "cell_type": "code",
   "execution_count": 3,
   "id": "7d9f5f0a-3fbe-42a2-90eb-80db49855d77",
   "metadata": {},
   "outputs": [],
   "source": [
    "# https://github.com/Fyusion/LLFF\n",
    "\n",
    "def load_poses_bounds_llff(scenedir):\n",
    "    poses_arr = np.load(os.path.join(scenedir, 'poses_bounds.npy'))\n",
    "    poses = poses_arr[:, :-2].reshape([-1, 3, 5]).transpose([1,2,0])\n",
    "    bds = poses_arr[:, -2:].transpose([1,0])\n",
    "\n",
    "    # Correct rotation matrix ordering and move variable dim to axis 0\n",
    "    poses = np.concatenate([poses[:, 1:2, :], -poses[:, 0:1, :], poses[:, 2:, :]], 1)\n",
    "    poses = np.moveaxis(poses, -1, 0).astype(np.float32)\n",
    "    bds = np.moveaxis(bds, -1, 0).astype(np.float32)\n",
    "    \n",
    "    hwf = poses[0, :3, -1]\n",
    "    poses = poses[:, :3, :4]\n",
    "    \n",
    "    return poses, bds, hwf\n",
    "\n",
    "def get_rays_np(H, W, focal, c2w):\n",
    "    \"\"\"Get ray origins, directions from a pinhole camera.\"\"\"\n",
    "    i, j = np.meshgrid(np.arange(W, dtype=np.float32),\n",
    "                       np.arange(H, dtype=np.float32), indexing='xy')\n",
    "    dirs = np.stack([(i-W*.5)/focal, -(j-H*.5)/focal, -np.ones_like(i)], -1)\n",
    "    rays_d = np.sum(dirs[..., np.newaxis, :] * c2w[:3, :3], -1)\n",
    "    #rays_d = np.sum(dirs[..., np.newaxis, :] * np.array([[1,0,0],[0,1,0],[0,0,1]]), -1).astype(np.float32)\n",
    "    #rays_o = np.broadcast_to(c2w[:3, -1], np.shape(rays_d))\n",
    "    rays_o = c2w[:3, -1]\n",
    "    return rays_o, rays_d\n",
    "\n",
    "\n",
    "def get_x_image(H, W, focal, c2w):\n",
    "    ro, rd = get_rays_np(H, W, focal, c2w)\n",
    "    ro = torch.tensor(ro)\n",
    "    rd = torch.tensor(rd).reshape(-1, 3)\n",
    "    rd = rd / rd.norm(dim=-1, keepdim=True)\n",
    "    return ro, rd"
   ]
  },
  {
   "cell_type": "code",
   "execution_count": 4,
   "id": "8cd345ef-de90-4116-b8c4-fcb1e0621bad",
   "metadata": {},
   "outputs": [
    {
     "data": {
      "text/plain": [
       "<matplotlib.image.AxesImage at 0x7f5601c9cdc0>"
      ]
     },
     "execution_count": 4,
     "metadata": {},
     "output_type": "execute_result"
    },
    {
     "data": {
      "image/png": "[encoded data removed]",
      "text/plain": [
       "<Figure size 720x720 with 1 Axes>"
      ]
     },
     "metadata": {
      "needs_background": "light"
     },
     "output_type": "display_data"
    }
   ],
   "source": [
    "scenedir = '../grodge'\n",
    "\n",
    "transform=transforms.Compose([\n",
    "    transforms.Resize(32),\n",
    "    transforms.ToTensor()\n",
    "])\n",
    "img_folder = os.path.join(scenedir, 'images')\n",
    "images = [transform(Image.open(os.path.join(img_folder, v)))\n",
    "          for v in sorted(os.listdir(img_folder))]\n",
    "images = torch.stack(images, axis=0)\n",
    "\n",
    "plt.figure(figsize=(10,)*2)\n",
    "plt.imshow(images[0].permute(1,2,0))"
   ]
  },
  {
   "cell_type": "code",
   "execution_count": 5,
   "id": "5ceca2c0-24dd-4549-9e79-b6a7ec0ae504",
   "metadata": {},
   "outputs": [
    {
     "name": "stdout",
     "output_type": "stream",
     "text": [
      "Camera position mean & std:\n",
      "[0.5587934  0.4400115  0.29173553] [3.122544  2.0582294 0.9369718]\n"
     ]
    }
   ],
   "source": [
    "poses, bds, hwf = load_poses_bounds_llff(scenedir)\n",
    "print('Camera position mean & std:')\n",
    "print(poses[:,:,-1].mean(axis=0), poses[:,:,-1].std(axis=0))\n",
    "\n",
    "H, W = images[0].shape[1:]\n",
    "focal = H / hwf[0] * hwf[2]\n",
    "\n",
    "class Data:\n",
    "    def __init__(self):\n",
    "        self.origins = []\n",
    "        self.raydirs = []\n",
    "        self.colors = []\n",
    "data = Data()\n",
    "\n",
    "for i in range(len(poses)):\n",
    "    ro, rd = get_x_image(H, W, focal, poses[i])\n",
    "    data.origins.append(ro[None, :])\n",
    "    data.raydirs.append(rd)\n",
    "    data.colors.append(images[i].permute(1,2,0).reshape(-1, 3))\n",
    "\n",
    "data.origins = torch.cat(data.origins, axis=0)\n",
    "data.raydirs = torch.cat(data.raydirs, axis=0)\n",
    "data.colors = torch.cat(data.colors, axis=0)"
   ]
  },
  {
   "cell_type": "markdown",
   "id": "0a13ef0d-3318-4553-b3c2-b3212a96226f",
   "metadata": {},
   "source": [
    "## Learn Depth Maps"
   ]
  },
  {
   "cell_type": "code",
   "execution_count": 6,
   "id": "94de1d3e-91f2-44a3-8d30-dc5abd3f22e1",
   "metadata": {
    "tags": []
   },
   "outputs": [
    {
     "name": "stdout",
     "output_type": "stream",
     "text": [
      "tensor([0.0189, 0.4752, 0.6593], requires_grad=True)\n",
      "tensor([8.3543e-04, 5.0220e-01, 9.7715e-01], requires_grad=True)\n"
     ]
    }
   ],
   "source": [
    "x = torch.rand(3, requires_grad=True)\n",
    "y = torch.tensor([0, 0.5, 1])\n",
    "o = torch.optim.Adam([x], lr=0.01)\n",
    "lf = nn.MSELoss()\n",
    "\n",
    "print(x)\n",
    "for i in range(40):\n",
    "    l = lf(x,y)\n",
    "    o.zero_grad()\n",
    "    l.backward()\n",
    "    o.step()\n",
    "print(x)"
   ]
  },
  {
   "cell_type": "code",
   "execution_count": 7,
   "id": "198b167e-568b-47ac-9e5c-6178c9d12dfe",
   "metadata": {},
   "outputs": [
    {
     "name": "stdout",
     "output_type": "stream",
     "text": [
      "8.885932 37.61952\n"
     ]
    }
   ],
   "source": [
    "min_depth, max_depth = min(bds[:, 0]), max(bds[:, 1])\n",
    "print(min_depth, max_depth)\n",
    "depth_maps = torch.rand(images.shape[0], 1, *images.shape[2:], requires_grad=True)\n",
    "#with torch.no_grad():\n",
    "    #depth_maps = depth_maps * (max_depth - min_depth) + min_depth"
   ]
  },
  {
   "cell_type": "code",
   "execution_count": 8,
   "id": "c389d92a-592b-42e7-9e12-7e6143bffaee",
   "metadata": {
    "tags": []
   },
   "outputs": [
    {
     "name": "stdout",
     "output_type": "stream",
     "text": [
      "-0.20187652111053467 1.3268457651138306\n"
     ]
    },
    {
     "data": {
      "text/plain": [
       "<matplotlib.image.AxesImage at 0x7f5601b60460>"
      ]
     },
     "execution_count": 8,
     "metadata": {},
     "output_type": "execute_result"
    },
    {
     "data": {
      "image/png": "[encoded data removed]",
      "text/plain": [
       "<Figure size 432x288 with 1 Axes>"
      ]
     },
     "metadata": {
      "needs_background": "light"
     },
     "output_type": "display_data"
    }
   ],
   "source": [
    "depth_optim = torch.optim.Adam([depth_maps], lr=0.01)\n",
    "depth_loss_fn = nn.MSELoss()\n",
    "\n",
    "cam_intrinsics = torch.tensor([[\n",
    "    [W, 0, W/2],\n",
    "    [0, H, H/2],\n",
    "    [0, 0, 1]\n",
    "]])\n",
    "\n",
    "for i in range(200):\n",
    "    src_id, dst_id = np.random.choice(images.shape[0], 2, replace=False)\n",
    "    image_src = images[src_id][None, :]\n",
    "    image_dst = images[dst_id][None, :]\n",
    "    depth_dst = depth_maps[dst_id][None, :]  * (max_depth - min_depth) + min_depth\n",
    "    \n",
    "    pose_src_quat = quaternion.from_rotation_matrix(poses[src_id])\n",
    "    pose_dst_quat = quaternion.from_rotation_matrix(poses[dst_id])\n",
    "    src_trans_dst = quaternion.as_rotation_matrix(pose_dst_quat * pose_src_quat.inverse())\n",
    "    src_offset = poses[src_id, :, -1] - poses[dst_id, : , -1]\n",
    "    src_trans_dst = np.concatenate([src_trans_dst, src_offset[:, None]], axis=-1)\n",
    "    src_trans_dst = np.concatenate([src_trans_dst, np.array([0,0,0,1])[None, :]], axis=0)\n",
    "    src_trans_dst = torch.tensor(src_trans_dst.astype(np.float32))[None, :]\n",
    "    \n",
    "    warped = warp_frame_depth(image_src, depth_dst, src_trans_dst, cam_intrinsics, normalize_points=True)\n",
    "    \n",
    "    loss = depth_loss_fn(warped, image_dst)\n",
    "    depth_optim.zero_grad()\n",
    "    loss.backward()\n",
    "    depth_optim.step()\n",
    "\n",
    "mind = depth_maps[0].min()\n",
    "maxd = depth_maps[0].max()\n",
    "print(mind.item(), maxd.item())\n",
    "normd = (depth_maps[0] - mind) / (maxd - mind)\n",
    "plt.imshow(normd.detach().cpu().permute(1,2,0))"
   ]
  },
  {
   "cell_type": "code",
   "execution_count": 9,
   "id": "3c8a8dcd-1f63-4f87-8de1-f72190895443",
   "metadata": {},
   "outputs": [
    {
     "data": {
      "text/plain": [
       "<matplotlib.image.AxesImage at 0x7f5601ac84c0>"
      ]
     },
     "execution_count": 9,
     "metadata": {},
     "output_type": "execute_result"
    },
    {
     "data": {
      "image/png": "[encoded data removed]",
      "text/plain": [
       "<Figure size 432x288 with 1 Axes>"
      ]
     },
     "metadata": {
      "needs_background": "light"
     },
     "output_type": "display_data"
    }
   ],
   "source": [
    "y, x = torch.meshgrid(torch.linspace(-H/W, H/W, H), torch.linspace(-1, 1, W))\n",
    "dm_test = torch.stack([y, x], axis=0)\n",
    "dm_test = dm_test.norm(dim=0, keepdim=True)\n",
    "dm_test = dm_test / dm_test.max() * (max_depth - min_depth) + min_depth\n",
    "plt.imshow((dm_test / dm_test.max()).permute(1,2,0), cmap='gray')"
   ]
  },
  {
   "cell_type": "code",
   "execution_count": 10,
   "id": "eca93277-fb1c-453c-8a1a-c13afc09e713",
   "metadata": {},
   "outputs": [
    {
     "name": "stdout",
     "output_type": "stream",
     "text": [
      "[[ 1.00000000e+00 -1.73472348e-18  0.00000000e+00]\n",
      " [ 1.73472348e-18  1.00000000e+00  0.00000000e+00]\n",
      " [ 0.00000000e+00  0.00000000e+00  1.00000000e+00]]\n"
     ]
    }
   ],
   "source": [
    "qi = pose_src_quat * pose_src_quat.inverse()\n",
    "qir = quaternion.as_rotation_matrix(qi)\n",
    "print(qir)"
   ]
  },
  {
   "cell_type": "code",
   "execution_count": 11,
   "id": "6be1afe3-f277-4ee7-917d-5709fbf54bbe",
   "metadata": {},
   "outputs": [
    {
     "data": {
      "text/html": [
       "<video src=\"warp.mp4\" controls=true autoplay=true loop=true width=300px/>"
      ],
      "text/plain": [
       "<IPython.core.display.HTML object>"
      ]
     },
     "metadata": {},
     "output_type": "display_data"
    }
   ],
   "source": [
    "src_id, dst_id = 0, 4\n",
    "image_src = images[src_id][None, :]\n",
    "image_dst = images[dst_id][None, :]\n",
    "depth_dst = dm_test[None, :]\n",
    "#depth_dst = torch.ones(1, 1, *image_src.shape[2:]) * max_depth\n",
    "\n",
    "pose_src_quat = quaternion.from_rotation_matrix(poses[src_id])\n",
    "pose_dst_quat = quaternion.from_rotation_matrix(poses[dst_id])\n",
    "\n",
    "def make_warp_frame(t):\n",
    "    t = ease_quad(saw(t))\n",
    "    \n",
    "    src_offset = (poses[dst_id, : , -1] - poses[src_id, :, -1]) * t\n",
    "    a = np.array\n",
    "    q_t = quaternion.quaternion_time_series.squad(a([pose_dst_quat, pose_src_quat]), a([0, 1]), a([t]))[0]\n",
    "    src_trans_dst = quaternion.as_rotation_matrix(pose_dst_quat * q_t.inverse())\n",
    "    src_trans_dst = np.concatenate([src_trans_dst, src_offset[:, None]], axis=-1)\n",
    "    src_trans_dst = np.concatenate([src_trans_dst, np.array([0,0,0,1])[None, :]], axis=0)\n",
    "    src_trans_dst = torch.tensor(src_trans_dst.astype(np.float32))[None, :]\n",
    "    \n",
    "    warped = warp_frame_depth(image_src, depth_dst, src_trans_dst, cam_intrinsics, normalize_points=True)\n",
    "    return warped[0].permute(1,2,0).multiply(255).int().numpy()\n",
    "\n",
    "clip = mpy.VideoClip(make_warp_frame, duration=2)\n",
    "clip.write_videofile('warp.mp4', fps=12)\n",
    "\n",
    "display.clear_output()\n",
    "display.display(display.HTML('<video src=\"warp.mp4\" controls=true autoplay=true loop=true width=300px/>'))"
   ]
  }
 ],
 "metadata": {
  "kernelspec": {
   "display_name": "Python 3",
   "language": "python",
   "name": "python3"
  },
  "language_info": {
   "codemirror_mode": {
    "name": "ipython",
    "version": 3
   },
   "file_extension": ".py",
   "mimetype": "text/x-python",
   "name": "python",
   "nbconvert_exporter": "python",
   "pygments_lexer": "ipython3",
   "version": "3.8.10"
  }
 },
 "nbformat": 4,
 "nbformat_minor": 5
}
